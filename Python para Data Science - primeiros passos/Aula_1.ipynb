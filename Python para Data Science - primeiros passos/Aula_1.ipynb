{
 "cells": [
  {
   "cell_type": "markdown",
   "id": "53bc8d31",
   "metadata": {},
   "source": [
    "# Lógica de Programação com Python"
   ]
  },
  {
   "cell_type": "code",
   "execution_count": 5,
   "id": "e7492de5",
   "metadata": {},
   "outputs": [
    {
     "name": "stdout",
     "output_type": "stream",
     "text": [
      "2\n"
     ]
    }
   ],
   "source": [
    "print(1+1)"
   ]
  },
  {
   "cell_type": "code",
   "execution_count": 9,
   "id": "b03b7f93",
   "metadata": {},
   "outputs": [
    {
     "name": "stdout",
     "output_type": "stream",
     "text": [
      "4\n"
     ]
    }
   ],
   "source": [
    "x = 2\n",
    "print(x+2)"
   ]
  },
  {
   "cell_type": "markdown",
   "id": "fa2c1790",
   "metadata": {},
   "source": [
    "## Criando minha primeira função"
   ]
  },
  {
   "cell_type": "code",
   "execution_count": 8,
   "id": "cc19ebd1",
   "metadata": {},
   "outputs": [],
   "source": [
    "def saudacao():\n",
    "    nome = input('Qual é o seu nome? ')\n",
    "    print(f'Olá {nome}')"
   ]
  },
  {
   "cell_type": "code",
   "execution_count": 10,
   "id": "dae24220",
   "metadata": {},
   "outputs": [
    {
     "name": "stdout",
     "output_type": "stream",
     "text": [
      "Qual é o seu nome? bento\n",
      "Olá bento\n"
     ]
    }
   ],
   "source": [
    "saudacao()"
   ]
  },
  {
   "cell_type": "markdown",
   "id": "1e9d6d18",
   "metadata": {},
   "source": [
    "## Criando outra função (com parâmetro)"
   ]
  },
  {
   "cell_type": "code",
   "execution_count": 11,
   "id": "60a7c4cf",
   "metadata": {},
   "outputs": [],
   "source": [
    "nome = 'Luiza'"
   ]
  },
  {
   "cell_type": "code",
   "execution_count": 12,
   "id": "e3da7549",
   "metadata": {},
   "outputs": [],
   "source": [
    "def saudacao_com_parametro(nome):\n",
    "    print(f'Olá {nome}')"
   ]
  },
  {
   "cell_type": "code",
   "execution_count": 13,
   "id": "c13d129c",
   "metadata": {},
   "outputs": [
    {
     "name": "stdout",
     "output_type": "stream",
     "text": [
      "Olá Luiza\n"
     ]
    }
   ],
   "source": [
    "saudacao_com_parametro(nome)"
   ]
  },
  {
   "cell_type": "code",
   "execution_count": 14,
   "id": "2b23061c",
   "metadata": {},
   "outputs": [
    {
     "name": "stdout",
     "output_type": "stream",
     "text": [
      "Olá ana\n"
     ]
    }
   ],
   "source": [
    "saudacao_com_parametro('ana')"
   ]
  },
  {
   "cell_type": "markdown",
   "id": "4e051375",
   "metadata": {},
   "source": [
    "## Condicional "
   ]
  },
  {
   "cell_type": "code",
   "execution_count": 15,
   "id": "7ac34cb2",
   "metadata": {},
   "outputs": [],
   "source": [
    "idade = 20\n",
    "\n",
    "def verifica_se_pode_dirigir(age):\n",
    "    if age > 18:\n",
    "        print('Tem permissão para dirigir')\n",
    "    else:\n",
    "        print('Não tem permissão para dirigir')"
   ]
  },
  {
   "cell_type": "code",
   "execution_count": 16,
   "id": "581d149e",
   "metadata": {},
   "outputs": [
    {
     "name": "stdout",
     "output_type": "stream",
     "text": [
      "Tem permissão para dirigir\n"
     ]
    }
   ],
   "source": [
    "verifica_se_pode_dirigir(idade)"
   ]
  },
  {
   "cell_type": "code",
   "execution_count": 17,
   "id": "05bc01ed",
   "metadata": {},
   "outputs": [
    {
     "name": "stdout",
     "output_type": "stream",
     "text": [
      "Não tem permissão para dirigir\n"
     ]
    }
   ],
   "source": [
    "verifica_se_pode_dirigir(15)"
   ]
  },
  {
   "cell_type": "code",
   "execution_count": 18,
   "id": "b052185a",
   "metadata": {},
   "outputs": [],
   "source": [
    "def verifica_se_pode_dirigir_sem_parametros():\n",
    "    age = input('Qual a sua idade? ')\n",
    "    \n",
    "    if int(age) > 18: #colocar int(palavra) converte a palavra em número\n",
    "        print('Tem permissão para dirigir')\n",
    "    else:\n",
    "        print('Não tem permissão para dirigir')"
   ]
  },
  {
   "cell_type": "code",
   "execution_count": 20,
   "id": "2eaee47f",
   "metadata": {},
   "outputs": [
    {
     "name": "stdout",
     "output_type": "stream",
     "text": [
      "Qual a sua idade? 18\n",
      "Não tem permissão para dirigir\n"
     ]
    }
   ],
   "source": [
    "verifica_se_pode_dirigir_sem_parametros()"
   ]
  },
  {
   "cell_type": "code",
   "execution_count": 21,
   "id": "645fe815",
   "metadata": {},
   "outputs": [
    {
     "name": "stdout",
     "output_type": "stream",
     "text": [
      "Qual a sua idade? 20\n",
      "Tem permissão para dirigir\n"
     ]
    }
   ],
   "source": [
    "verifica_se_pode_dirigir_sem_parametros()"
   ]
  },
  {
   "cell_type": "markdown",
   "id": "66a8fbea",
   "metadata": {
    "scrolled": true
   },
   "source": [
    "## Lista"
   ]
  },
  {
   "cell_type": "code",
   "execution_count": 22,
   "id": "b1ced0ce",
   "metadata": {},
   "outputs": [
    {
     "data": {
      "text/plain": [
       "22"
      ]
     },
     "execution_count": 22,
     "metadata": {},
     "output_type": "execute_result"
    }
   ],
   "source": [
    "idade = 22\n",
    "idade"
   ]
  },
  {
   "cell_type": "code",
   "execution_count": 23,
   "id": "a296d70e",
   "metadata": {},
   "outputs": [
    {
     "data": {
      "text/plain": [
       "int"
      ]
     },
     "execution_count": 23,
     "metadata": {},
     "output_type": "execute_result"
    }
   ],
   "source": [
    "type(idade)"
   ]
  },
  {
   "cell_type": "code",
   "execution_count": 24,
   "id": "c719877e",
   "metadata": {},
   "outputs": [],
   "source": [
    "nome = 'guilherme'"
   ]
  },
  {
   "cell_type": "code",
   "execution_count": 25,
   "id": "e49b3404",
   "metadata": {},
   "outputs": [
    {
     "data": {
      "text/plain": [
       "str"
      ]
     },
     "execution_count": 25,
     "metadata": {},
     "output_type": "execute_result"
    }
   ],
   "source": [
    "type(nome)"
   ]
  },
  {
   "cell_type": "code",
   "execution_count": 26,
   "id": "5bb444ea",
   "metadata": {},
   "outputs": [],
   "source": [
    "idades = [18, 22, 15, 50]\n",
    "#         0   1   2    3\n",
    "#         0   3  -2   -1"
   ]
  },
  {
   "cell_type": "code",
   "execution_count": 27,
   "id": "a3af8bac",
   "metadata": {},
   "outputs": [
    {
     "data": {
      "text/plain": [
       "22"
      ]
     },
     "execution_count": 27,
     "metadata": {},
     "output_type": "execute_result"
    }
   ],
   "source": [
    "idades[1]"
   ]
  },
  {
   "cell_type": "code",
   "execution_count": 28,
   "id": "eaad3ffb",
   "metadata": {},
   "outputs": [
    {
     "data": {
      "text/plain": [
       "[18, 22]"
      ]
     },
     "execution_count": 28,
     "metadata": {},
     "output_type": "execute_result"
    }
   ],
   "source": [
    "idades[0:2]"
   ]
  },
  {
   "cell_type": "code",
   "execution_count": 29,
   "id": "51e1c04d",
   "metadata": {},
   "outputs": [
    {
     "data": {
      "text/plain": [
       "[18, 22, 15]"
      ]
     },
     "execution_count": 29,
     "metadata": {},
     "output_type": "execute_result"
    }
   ],
   "source": [
    "idades[0:3]"
   ]
  },
  {
   "cell_type": "code",
   "execution_count": 30,
   "id": "6ffd7817",
   "metadata": {},
   "outputs": [
    {
     "data": {
      "text/plain": [
       "[22, 15, 50]"
      ]
     },
     "execution_count": 30,
     "metadata": {},
     "output_type": "execute_result"
    }
   ],
   "source": [
    "idades[1:]"
   ]
  },
  {
   "cell_type": "code",
   "execution_count": 31,
   "id": "211862bf",
   "metadata": {},
   "outputs": [
    {
     "data": {
      "text/plain": [
       "50"
      ]
     },
     "execution_count": 31,
     "metadata": {},
     "output_type": "execute_result"
    }
   ],
   "source": [
    "idades[-1]"
   ]
  },
  {
   "cell_type": "code",
   "execution_count": 32,
   "id": "0f8b56d2",
   "metadata": {},
   "outputs": [
    {
     "data": {
      "text/plain": [
       "15"
      ]
     },
     "execution_count": 32,
     "metadata": {},
     "output_type": "execute_result"
    }
   ],
   "source": [
    "idades[-2]"
   ]
  },
  {
   "cell_type": "code",
   "execution_count": 33,
   "id": "c604caad",
   "metadata": {},
   "outputs": [
    {
     "data": {
      "text/plain": [
       "[18, 22, 15]"
      ]
     },
     "execution_count": 33,
     "metadata": {},
     "output_type": "execute_result"
    }
   ],
   "source": [
    "idades[:-1]"
   ]
  },
  {
   "cell_type": "code",
   "execution_count": 34,
   "id": "977d4038",
   "metadata": {},
   "outputs": [
    {
     "data": {
      "text/plain": [
       "[50, 15, 22, 18]"
      ]
     },
     "execution_count": 34,
     "metadata": {},
     "output_type": "execute_result"
    }
   ],
   "source": [
    "idades[::-1] # de trás para frente"
   ]
  },
  {
   "cell_type": "code",
   "execution_count": 35,
   "id": "c4be157c",
   "metadata": {},
   "outputs": [
    {
     "data": {
      "text/plain": [
       "[50, 22]"
      ]
     },
     "execution_count": 35,
     "metadata": {},
     "output_type": "execute_result"
    }
   ],
   "source": [
    "idades[::-2] #de trás para frente de 2 em 2"
   ]
  },
  {
   "cell_type": "code",
   "execution_count": 36,
   "id": "a1058cf3",
   "metadata": {
    "scrolled": true
   },
   "outputs": [
    {
     "data": {
      "text/plain": [
       "[18, 15]"
      ]
     },
     "execution_count": 36,
     "metadata": {},
     "output_type": "execute_result"
    }
   ],
   "source": [
    "idades[::2] #de 2 em 2"
   ]
  },
  {
   "cell_type": "markdown",
   "id": "d89a5626",
   "metadata": {},
   "source": [
    "## Laços e loops"
   ]
  },
  {
   "cell_type": "code",
   "execution_count": 37,
   "id": "4a9cade3",
   "metadata": {},
   "outputs": [
    {
     "name": "stdout",
     "output_type": "stream",
     "text": [
      "18 anos tem permissão para dirigir\n",
      "22 anos tem permissão para dirigir\n",
      "15 anos não tem permissão para dirigir\n",
      "50 anos tem permissão para dirigir\n"
     ]
    }
   ],
   "source": [
    "#for fora da função\n",
    "def verifica_se_pode_dirigir(age):\n",
    "    if age >= 18:\n",
    "        print(f'{age} anos tem permissão para dirigir')\n",
    "    else:\n",
    "        print(f'{age} anos não tem permissão para dirigir')\n",
    "        \n",
    "for idade in idades:\n",
    "    verifica_se_pode_dirigir(idade)"
   ]
  },
  {
   "cell_type": "code",
   "execution_count": 38,
   "id": "b4295c28",
   "metadata": {},
   "outputs": [],
   "source": [
    "#for dentro da função\n",
    "def verifica_se_pode_dirigir():\n",
    "    for idade in idades:    \n",
    "        if idade >= 18:\n",
    "            print(f'{idade} anos tem permissão para dirigir')\n",
    "        else:\n",
    "            print(f'{idade} anos não tem permissão para dirigir')       \n"
   ]
  },
  {
   "cell_type": "code",
   "execution_count": 39,
   "id": "5622f4d0",
   "metadata": {},
   "outputs": [
    {
     "name": "stdout",
     "output_type": "stream",
     "text": [
      "18 anos tem permissão para dirigir\n",
      "22 anos tem permissão para dirigir\n",
      "15 anos não tem permissão para dirigir\n",
      "50 anos tem permissão para dirigir\n"
     ]
    }
   ],
   "source": [
    "verifica_se_pode_dirigir()"
   ]
  },
  {
   "cell_type": "markdown",
   "id": "fa72ab77",
   "metadata": {},
   "source": [
    "## Booleano"
   ]
  },
  {
   "cell_type": "code",
   "execution_count": 40,
   "id": "ca848b47",
   "metadata": {},
   "outputs": [],
   "source": [
    "idade = 18"
   ]
  },
  {
   "cell_type": "code",
   "execution_count": 41,
   "id": "070598c9",
   "metadata": {},
   "outputs": [
    {
     "data": {
      "text/plain": [
       "True"
      ]
     },
     "execution_count": 41,
     "metadata": {},
     "output_type": "execute_result"
    }
   ],
   "source": [
    "idade >= 18"
   ]
  },
  {
   "cell_type": "code",
   "execution_count": 42,
   "id": "4483017e",
   "metadata": {},
   "outputs": [
    {
     "data": {
      "text/plain": [
       "True"
      ]
     },
     "execution_count": 42,
     "metadata": {},
     "output_type": "execute_result"
    }
   ],
   "source": [
    "idade <= 18"
   ]
  },
  {
   "cell_type": "code",
   "execution_count": 43,
   "id": "cae1118d",
   "metadata": {},
   "outputs": [
    {
     "data": {
      "text/plain": [
       "False"
      ]
     },
     "execution_count": 43,
     "metadata": {},
     "output_type": "execute_result"
    }
   ],
   "source": [
    "idade > 18"
   ]
  },
  {
   "cell_type": "code",
   "execution_count": 44,
   "id": "35b3ee17",
   "metadata": {},
   "outputs": [
    {
     "data": {
      "text/plain": [
       "False"
      ]
     },
     "execution_count": 44,
     "metadata": {},
     "output_type": "execute_result"
    }
   ],
   "source": [
    "idade < 18"
   ]
  },
  {
   "cell_type": "code",
   "execution_count": 45,
   "id": "95df12e8",
   "metadata": {},
   "outputs": [
    {
     "data": {
      "text/plain": [
       "True"
      ]
     },
     "execution_count": 45,
     "metadata": {},
     "output_type": "execute_result"
    }
   ],
   "source": [
    "idade == 18"
   ]
  },
  {
   "cell_type": "code",
   "execution_count": 46,
   "id": "58ca5f20",
   "metadata": {},
   "outputs": [
    {
     "data": {
      "text/plain": [
       "True"
      ]
     },
     "execution_count": 46,
     "metadata": {},
     "output_type": "execute_result"
    }
   ],
   "source": [
    "idade != 15"
   ]
  },
  {
   "cell_type": "code",
   "execution_count": 47,
   "id": "22119711",
   "metadata": {},
   "outputs": [
    {
     "data": {
      "text/plain": [
       "True"
      ]
     },
     "execution_count": 47,
     "metadata": {},
     "output_type": "execute_result"
    }
   ],
   "source": [
    "idade > 15"
   ]
  },
  {
   "cell_type": "code",
   "execution_count": 48,
   "id": "e91ff1b8",
   "metadata": {},
   "outputs": [
    {
     "data": {
      "text/plain": [
       "False"
      ]
     },
     "execution_count": 48,
     "metadata": {},
     "output_type": "execute_result"
    }
   ],
   "source": [
    "idade < 15"
   ]
  },
  {
   "cell_type": "code",
   "execution_count": 49,
   "id": "409023a1",
   "metadata": {},
   "outputs": [
    {
     "data": {
      "text/plain": [
       "True"
      ]
     },
     "execution_count": 49,
     "metadata": {},
     "output_type": "execute_result"
    }
   ],
   "source": [
    "idade >= 15"
   ]
  },
  {
   "cell_type": "code",
   "execution_count": 50,
   "id": "5bee2f51",
   "metadata": {},
   "outputs": [
    {
     "data": {
      "text/plain": [
       "False"
      ]
     },
     "execution_count": 50,
     "metadata": {},
     "output_type": "execute_result"
    }
   ],
   "source": [
    "idade <= 15"
   ]
  },
  {
   "cell_type": "code",
   "execution_count": 51,
   "id": "d3822bd2",
   "metadata": {},
   "outputs": [
    {
     "data": {
      "text/plain": [
       "False"
      ]
     },
     "execution_count": 51,
     "metadata": {},
     "output_type": "execute_result"
    }
   ],
   "source": [
    "idade == 15"
   ]
  },
  {
   "cell_type": "code",
   "execution_count": 52,
   "id": "aecfcc08",
   "metadata": {},
   "outputs": [
    {
     "data": {
      "text/plain": [
       "True"
      ]
     },
     "execution_count": 52,
     "metadata": {},
     "output_type": "execute_result"
    }
   ],
   "source": [
    "idade == 18"
   ]
  },
  {
   "cell_type": "code",
   "execution_count": 53,
   "id": "318a7919",
   "metadata": {},
   "outputs": [
    {
     "name": "stdout",
     "output_type": "stream",
     "text": [
      "20 anos tem permissão para dirigir\n",
      "14 anos não tem permissão para dirigir\n",
      "40 anos tem permissão para dirigir\n"
     ]
    }
   ],
   "source": [
    "permissoes = []\n",
    "idades = [20, 14, 40]\n",
    "\n",
    "def verifica_se_pode_dirigir(ages, permition):\n",
    "    for idade in ages:\n",
    "        if idade >= 18:\n",
    "            print(f'{idade} anos tem permissão para dirigir')\n",
    "            permition.append(True)\n",
    "        else:\n",
    "            print(f'{idade} anos não tem permissão para dirigir')\n",
    "            permition.append(False)        \n",
    "\n",
    "verifica_se_pode_dirigir(idades, permissoes)\n"
   ]
  },
  {
   "cell_type": "code",
   "execution_count": 54,
   "id": "29bbcd9c",
   "metadata": {},
   "outputs": [
    {
     "data": {
      "text/plain": [
       "[True, False, True]"
      ]
     },
     "execution_count": 54,
     "metadata": {},
     "output_type": "execute_result"
    }
   ],
   "source": [
    "permissoes"
   ]
  },
  {
   "cell_type": "code",
   "execution_count": 55,
   "id": "83d9c5ae",
   "metadata": {},
   "outputs": [
    {
     "name": "stdout",
     "output_type": "stream",
     "text": [
      "Tem permissão para dirigir\n",
      "Não tem permissão para dirigir\n",
      "Tem permissão para dirigir\n"
     ]
    }
   ],
   "source": [
    "for permissao in permissoes:\n",
    "    if permissao: #pode ser usado também if permissao == True\n",
    "        print('Tem permissão para dirigir')\n",
    "    else:\n",
    "        print('Não tem permissão para dirigir')"
   ]
  },
  {
   "cell_type": "markdown",
   "id": "9935e974",
   "metadata": {},
   "source": [
    "## Tipos em uma lista"
   ]
  },
  {
   "cell_type": "code",
   "execution_count": 58,
   "id": "e5973ffd",
   "metadata": {},
   "outputs": [
    {
     "name": "stdout",
     "output_type": "stream",
     "text": [
      "O elemento bento é do tipo <class 'str'>\n",
      "O elemento 31 é do tipo <class 'int'>\n",
      "O elemento True é do tipo <class 'bool'>\n",
      "O elemento 18 é do tipo <class 'str'>\n"
     ]
    }
   ],
   "source": [
    "lista = [\"bento\", 31, True, \"18\"]\n",
    "\n",
    "for elemento in lista:\n",
    "    print(f'O elemento {elemento} é do tipo', type(elemento))"
   ]
  },
  {
   "cell_type": "markdown",
   "id": "f91ca0d9",
   "metadata": {},
   "source": [
    "## Imports"
   ]
  },
  {
   "cell_type": "markdown",
   "id": "33d5c513",
   "metadata": {},
   "source": [
    "### Lista de notas (forma aleatória)"
   ]
  },
  {
   "cell_type": "code",
   "execution_count": 60,
   "id": "5149850f",
   "metadata": {},
   "outputs": [],
   "source": [
    "from random import randrange"
   ]
  },
  {
   "cell_type": "code",
   "execution_count": 61,
   "id": "41adaa1f",
   "metadata": {},
   "outputs": [
    {
     "data": {
      "text/plain": [
       "3"
      ]
     },
     "execution_count": 61,
     "metadata": {},
     "output_type": "execute_result"
    }
   ],
   "source": [
    "randrange(0,11)"
   ]
  },
  {
   "cell_type": "code",
   "execution_count": 63,
   "id": "8a1244c4",
   "metadata": {},
   "outputs": [],
   "source": [
    "notas_matematicas = []\n",
    "\n",
    "for nota in range(8):\n",
    "    notas_matematicas.append(randrange(0,11))"
   ]
  },
  {
   "cell_type": "code",
   "execution_count": 64,
   "id": "32ae46d8",
   "metadata": {},
   "outputs": [
    {
     "data": {
      "text/plain": [
       "[7, 10, 1, 10, 10, 6, 7, 5]"
      ]
     },
     "execution_count": 64,
     "metadata": {},
     "output_type": "execute_result"
    }
   ],
   "source": [
    "notas_matematicas"
   ]
  },
  {
   "cell_type": "code",
   "execution_count": 73,
   "id": "f237e34c",
   "metadata": {},
   "outputs": [],
   "source": [
    "from random import randrange, seed\n",
    "seed(10)\n",
    "notas_matematicas = []\n",
    "for nota in range(8):\n",
    "    notas_matematicas.append(randrange(0,11))"
   ]
  },
  {
   "cell_type": "code",
   "execution_count": 74,
   "id": "6f85eef6",
   "metadata": {},
   "outputs": [
    {
     "data": {
      "text/plain": [
       "[9, 0, 6, 7, 9, 0, 3, 7]"
      ]
     },
     "execution_count": 74,
     "metadata": {},
     "output_type": "execute_result"
    }
   ],
   "source": [
    "notas_matematicas"
   ]
  },
  {
   "cell_type": "code",
   "execution_count": 75,
   "id": "56d2d600",
   "metadata": {},
   "outputs": [
    {
     "data": {
      "text/plain": [
       "8"
      ]
     },
     "execution_count": 75,
     "metadata": {},
     "output_type": "execute_result"
    }
   ],
   "source": [
    "len(notas_matematicas)"
   ]
  },
  {
   "cell_type": "markdown",
   "id": "3ce3337d",
   "metadata": {},
   "source": [
    "## MatPlot Lib"
   ]
  },
  {
   "cell_type": "code",
   "execution_count": 78,
   "id": "c0f56ebb",
   "metadata": {},
   "outputs": [],
   "source": [
    "import matplotlib.pyplot as plt"
   ]
  },
  {
   "cell_type": "code",
   "execution_count": 83,
   "id": "6aabd5bc",
   "metadata": {},
   "outputs": [],
   "source": [
    "x = list(range(1,9))\n",
    "y = notas_matematicas"
   ]
  },
  {
   "cell_type": "code",
   "execution_count": 84,
   "id": "6397fcb6",
   "metadata": {},
   "outputs": [
    {
     "data": {
      "text/plain": [
       "[1, 2, 3, 4, 5, 6, 7, 8]"
      ]
     },
     "execution_count": 84,
     "metadata": {},
     "output_type": "execute_result"
    }
   ],
   "source": [
    "x"
   ]
  },
  {
   "cell_type": "code",
   "execution_count": 85,
   "id": "48684dff",
   "metadata": {},
   "outputs": [
    {
     "data": {
      "text/plain": [
       "[9, 0, 6, 7, 9, 0, 3, 7]"
      ]
     },
     "execution_count": 85,
     "metadata": {},
     "output_type": "execute_result"
    }
   ],
   "source": [
    "y"
   ]
  },
  {
   "cell_type": "code",
   "execution_count": 96,
   "id": "9ca20861",
   "metadata": {},
   "outputs": [
    {
     "data": {
      "image/png": "[encoded data removed]",
      "text/plain": [
       "<Figure size 432x288 with 1 Axes>"
      ]
     },
     "metadata": {
      "needs_background": "light"
     },
     "output_type": "display_data"
    }
   ],
   "source": [
    "plt.plot(x,y, marker='o')\n",
    "plt.title(\"Notas de Matemática\")\n",
    "plt.xlabel(\"Provas\")\n",
    "plt.ylabel(\"Notas\")\n",
    "plt.show()"
   ]
  }
 ],
 "metadata": {
  "kernelspec": {
   "display_name": "Python 3 (ipykernel)",
   "language": "python",
   "name": "python3"
  },
  "language_info": {
   "codemirror_mode": {
    "name": "ipython",
    "version": 3
   },
   "file_extension": ".py",
   "mimetype": "text/x-python",
   "name": "python",
   "nbconvert_exporter": "python",
   "pygments_lexer": "ipython3",
   "version": "3.9.7"
  }
 },
 "nbformat": 4,
 "nbformat_minor": 5
}
