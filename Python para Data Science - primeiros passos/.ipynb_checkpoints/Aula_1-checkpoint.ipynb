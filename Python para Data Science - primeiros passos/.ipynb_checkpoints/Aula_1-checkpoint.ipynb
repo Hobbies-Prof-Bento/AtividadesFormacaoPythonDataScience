{
 "cells": [
  {
   "cell_type": "markdown",
   "id": "53bc8d31",
   "metadata": {},
   "source": [
    "# Lógica de Programação com Python"
   ]
  },
  {
   "cell_type": "code",
   "execution_count": 4,
   "id": "e7492de5",
   "metadata": {},
   "outputs": [
    {
     "name": "stdout",
     "output_type": "stream",
     "text": [
      "2\n"
     ]
    }
   ],
   "source": [
    "print(1+1)"
   ]
  },
  {
   "cell_type": "code",
   "execution_count": 3,
   "id": "b03b7f93",
   "metadata": {},
   "outputs": [
    {
     "name": "stdout",
     "output_type": "stream",
     "text": [
      "4\n"
     ]
    }
   ],
   "source": [
    "x = 2\n",
    "print(x+2)"
   ]
  },
  {
   "cell_type": "markdown",
   "id": "fa2c1790",
   "metadata": {},
   "source": [
    "## Criando minha primeira função"
   ]
  },
  {
   "cell_type": "code",
   "execution_count": 6,
   "id": "cc19ebd1",
   "metadata": {},
   "outputs": [],
   "source": [
    "def saudacao():\n",
    "    nome = input('Qual é o seu nome? ')\n",
    "    print(f'Olá {nome}')"
   ]
  },
  {
   "cell_type": "code",
   "execution_count": 7,
   "id": "dae24220",
   "metadata": {},
   "outputs": [
    {
     "name": "stdout",
     "output_type": "stream",
     "text": [
      "Qual é o seu nome? Bento\n",
      "Olá Bento\n"
     ]
    }
   ],
   "source": [
    "saudacao()"
   ]
  },
  {
   "cell_type": "markdown",
   "id": "1e9d6d18",
   "metadata": {},
   "source": [
    "## Criando outra função (com parâmetro)"
   ]
  },
  {
   "cell_type": "code",
   "execution_count": 8,
   "id": "60a7c4cf",
   "metadata": {},
   "outputs": [],
   "source": [
    "nome = 'Luiza'"
   ]
  },
  {
   "cell_type": "code",
   "execution_count": 9,
   "id": "e3da7549",
   "metadata": {},
   "outputs": [],
   "source": [
    "def saudacao_com_parametro(nome):\n",
    "    print(f'Olá {nome}')"
   ]
  },
  {
   "cell_type": "code",
   "execution_count": 10,
   "id": "c13d129c",
   "metadata": {},
   "outputs": [
    {
     "name": "stdout",
     "output_type": "stream",
     "text": [
      "Olá Luiza\n"
     ]
    }
   ],
   "source": [
    "saudacao_com_parametro(nome)"
   ]
  },
  {
   "cell_type": "code",
   "execution_count": 11,
   "id": "2b23061c",
   "metadata": {},
   "outputs": [
    {
     "name": "stdout",
     "output_type": "stream",
     "text": [
      "Olá ana\n"
     ]
    }
   ],
   "source": [
    "saudacao_com_parametro('ana')"
   ]
  },
  {
   "cell_type": "markdown",
   "id": "4e051375",
   "metadata": {},
   "source": [
    "## Condicional "
   ]
  },
  {
   "cell_type": "code",
   "execution_count": 15,
   "id": "7ac34cb2",
   "metadata": {},
   "outputs": [],
   "source": [
    "idade = 20\n",
    "\n",
    "def verifica_se_pode_dirigir(age):\n",
    "    if age > 18:\n",
    "        print('Tem permissão para dirigir')\n",
    "    else:\n",
    "        print('Não tem permissão para dirigir')"
   ]
  },
  {
   "cell_type": "code",
   "execution_count": 13,
   "id": "581d149e",
   "metadata": {},
   "outputs": [
    {
     "name": "stdout",
     "output_type": "stream",
     "text": [
      "Tem permissão para dirigir\n"
     ]
    }
   ],
   "source": [
    "verifica_se_pode_dirigir(idade)"
   ]
  },
  {
   "cell_type": "code",
   "execution_count": 16,
   "id": "05bc01ed",
   "metadata": {},
   "outputs": [
    {
     "name": "stdout",
     "output_type": "stream",
     "text": [
      "Não tem permissão para dirigir\n"
     ]
    }
   ],
   "source": [
    "verifica_se_pode_dirigir(15)"
   ]
  },
  {
   "cell_type": "code",
   "execution_count": 17,
   "id": "b052185a",
   "metadata": {},
   "outputs": [],
   "source": [
    "def verifica_se_pode_dirigir_sem_parametros():\n",
    "    age = input('Qual a sua idade? ')\n",
    "    \n",
    "    if int(age) > 18: #colocar int(palavra) converte a palavra em número\n",
    "        print('Tem permissão para dirigir')\n",
    "    else:\n",
    "        print('Não tem permissão para dirigir')"
   ]
  },
  {
   "cell_type": "code",
   "execution_count": 18,
   "id": "2eaee47f",
   "metadata": {},
   "outputs": [
    {
     "name": "stdout",
     "output_type": "stream",
     "text": [
      "Qual a sua idade? 15\n",
      "Não tem permissão para dirigir\n"
     ]
    }
   ],
   "source": [
    "verifica_se_pode_dirigir_sem_parametros()"
   ]
  },
  {
   "cell_type": "code",
   "execution_count": 19,
   "id": "645fe815",
   "metadata": {},
   "outputs": [
    {
     "name": "stdout",
     "output_type": "stream",
     "text": [
      "Qual a sua idade? 21\n",
      "Tem permissão para dirigir\n"
     ]
    }
   ],
   "source": [
    "verifica_se_pode_dirigir_sem_parametros()"
   ]
  },
  {
   "cell_type": "markdown",
   "id": "1fb15216",
   "metadata": {
    "scrolled": true
   },
   "source": [
    "## Lista"
   ]
  },
  {
   "cell_type": "code",
   "execution_count": 1,
   "id": "b1ced0ce",
   "metadata": {},
   "outputs": [
    {
     "data": {
      "text/plain": [
       "22"
      ]
     },
     "execution_count": 1,
     "metadata": {},
     "output_type": "execute_result"
    }
   ],
   "source": [
    "idade = 22\n",
    "idade"
   ]
  },
  {
   "cell_type": "code",
   "execution_count": 2,
   "id": "03955a75",
   "metadata": {},
   "outputs": [
    {
     "data": {
      "text/plain": [
       "int"
      ]
     },
     "execution_count": 2,
     "metadata": {},
     "output_type": "execute_result"
    }
   ],
   "source": [
    "type(idade)"
   ]
  },
  {
   "cell_type": "code",
   "execution_count": 3,
   "id": "4df0bd5b",
   "metadata": {},
   "outputs": [],
   "source": [
    "nome = 'guilherme'"
   ]
  },
  {
   "cell_type": "code",
   "execution_count": 4,
   "id": "c6149c60",
   "metadata": {},
   "outputs": [
    {
     "data": {
      "text/plain": [
       "str"
      ]
     },
     "execution_count": 4,
     "metadata": {},
     "output_type": "execute_result"
    }
   ],
   "source": [
    "type(nome)"
   ]
  },
  {
   "cell_type": "code",
   "execution_count": 6,
   "id": "3e8bf3e6",
   "metadata": {},
   "outputs": [],
   "source": [
    "idades = [18, 22, 15, 50]\n",
    "#         0   1   2    3\n",
    "#         0   3  -2   -1"
   ]
  },
  {
   "cell_type": "code",
   "execution_count": 7,
   "id": "59bd9554",
   "metadata": {},
   "outputs": [
    {
     "data": {
      "text/plain": [
       "22"
      ]
     },
     "execution_count": 7,
     "metadata": {},
     "output_type": "execute_result"
    }
   ],
   "source": [
    "idades[1]"
   ]
  },
  {
   "cell_type": "code",
   "execution_count": 8,
   "id": "1ced652e",
   "metadata": {},
   "outputs": [
    {
     "data": {
      "text/plain": [
       "[18, 22]"
      ]
     },
     "execution_count": 8,
     "metadata": {},
     "output_type": "execute_result"
    }
   ],
   "source": [
    "idades[0:2]"
   ]
  },
  {
   "cell_type": "code",
   "execution_count": 9,
   "id": "c481d811",
   "metadata": {},
   "outputs": [
    {
     "data": {
      "text/plain": [
       "[18, 22, 15]"
      ]
     },
     "execution_count": 9,
     "metadata": {},
     "output_type": "execute_result"
    }
   ],
   "source": [
    "idades[0:3]"
   ]
  },
  {
   "cell_type": "code",
   "execution_count": 10,
   "id": "2c86a577",
   "metadata": {},
   "outputs": [
    {
     "data": {
      "text/plain": [
       "[22, 15, 50]"
      ]
     },
     "execution_count": 10,
     "metadata": {},
     "output_type": "execute_result"
    }
   ],
   "source": [
    "idades[1:]"
   ]
  },
  {
   "cell_type": "code",
   "execution_count": 11,
   "id": "abf940dc",
   "metadata": {},
   "outputs": [
    {
     "data": {
      "text/plain": [
       "50"
      ]
     },
     "execution_count": 11,
     "metadata": {},
     "output_type": "execute_result"
    }
   ],
   "source": [
    "idades[-1]"
   ]
  },
  {
   "cell_type": "code",
   "execution_count": 12,
   "id": "048b2d46",
   "metadata": {},
   "outputs": [
    {
     "data": {
      "text/plain": [
       "15"
      ]
     },
     "execution_count": 12,
     "metadata": {},
     "output_type": "execute_result"
    }
   ],
   "source": [
    "idades[-2]"
   ]
  },
  {
   "cell_type": "code",
   "execution_count": 13,
   "id": "97f7b18f",
   "metadata": {},
   "outputs": [
    {
     "data": {
      "text/plain": [
       "[18, 22, 15]"
      ]
     },
     "execution_count": 13,
     "metadata": {},
     "output_type": "execute_result"
    }
   ],
   "source": [
    "idades[:-1]"
   ]
  },
  {
   "cell_type": "code",
   "execution_count": 14,
   "id": "cc62efe2",
   "metadata": {},
   "outputs": [
    {
     "data": {
      "text/plain": [
       "[50, 15, 22, 18]"
      ]
     },
     "execution_count": 14,
     "metadata": {},
     "output_type": "execute_result"
    }
   ],
   "source": [
    "idades[::-1] # de trás para frente"
   ]
  },
  {
   "cell_type": "code",
   "execution_count": 15,
   "id": "c9d12e8f",
   "metadata": {},
   "outputs": [
    {
     "data": {
      "text/plain": [
       "[50, 22]"
      ]
     },
     "execution_count": 15,
     "metadata": {},
     "output_type": "execute_result"
    }
   ],
   "source": [
    "idades[::-2] #de trás para frente de 2 em 2"
   ]
  },
  {
   "cell_type": "code",
   "execution_count": 17,
   "id": "a6bb0ece",
   "metadata": {
    "scrolled": true
   },
   "outputs": [
    {
     "data": {
      "text/plain": [
       "[18, 15]"
      ]
     },
     "execution_count": 17,
     "metadata": {},
     "output_type": "execute_result"
    }
   ],
   "source": [
    "idades[::2] #de 2 em 2"
   ]
  },
  {
   "cell_type": "markdown",
   "id": "f048195a",
   "metadata": {},
   "source": [
    "## Laços e loops"
   ]
  },
  {
   "cell_type": "code",
   "execution_count": 19,
   "id": "58ae7d45",
   "metadata": {},
   "outputs": [
    {
     "name": "stdout",
     "output_type": "stream",
     "text": [
      "18 anos tem permissão para dirigir\n",
      "22 anos tem permissão para dirigir\n",
      "15 anos não tem permissão para dirigir\n",
      "50 anos tem permissão para dirigir\n"
     ]
    }
   ],
   "source": [
    "#for fora da função\n",
    "def verifica_se_pode_dirigir(age):\n",
    "    if age >= 18:\n",
    "        print(f'{age} anos tem permissão para dirigir')\n",
    "    else:\n",
    "        print(f'{age} anos não tem permissão para dirigir')\n",
    "        \n",
    "for idade in idades:\n",
    "    verifica_se_pode_dirigir(idade)"
   ]
  },
  {
   "cell_type": "code",
   "execution_count": 20,
   "id": "f688a112",
   "metadata": {},
   "outputs": [],
   "source": [
    "#for dentro da função\n",
    "def verifica_se_pode_dirigir():\n",
    "    for idade in idades:    \n",
    "        if idade >= 18:\n",
    "            print(f'{idade} anos tem permissão para dirigir')\n",
    "        else:\n",
    "            print(f'{idade} anos não tem permissão para dirigir')       \n"
   ]
  },
  {
   "cell_type": "code",
   "execution_count": 21,
   "id": "b9ec21c3",
   "metadata": {},
   "outputs": [
    {
     "name": "stdout",
     "output_type": "stream",
     "text": [
      "18 anos tem permissão para dirigir\n",
      "22 anos tem permissão para dirigir\n",
      "15 anos não tem permissão para dirigir\n",
      "50 anos tem permissão para dirigir\n"
     ]
    }
   ],
   "source": [
    "verifica_se_pode_dirigir()"
   ]
  },
  {
   "cell_type": "markdown",
   "id": "f70bf128",
   "metadata": {},
   "source": [
    "## Booleano"
   ]
  },
  {
   "cell_type": "code",
   "execution_count": 22,
   "id": "2e7ca0f0",
   "metadata": {},
   "outputs": [],
   "source": [
    "idade = 18"
   ]
  },
  {
   "cell_type": "code",
   "execution_count": 23,
   "id": "6ddbbbd7",
   "metadata": {},
   "outputs": [
    {
     "data": {
      "text/plain": [
       "True"
      ]
     },
     "execution_count": 23,
     "metadata": {},
     "output_type": "execute_result"
    }
   ],
   "source": [
    "idade >= 18"
   ]
  },
  {
   "cell_type": "code",
   "execution_count": 24,
   "id": "972a3ff7",
   "metadata": {},
   "outputs": [
    {
     "data": {
      "text/plain": [
       "True"
      ]
     },
     "execution_count": 24,
     "metadata": {},
     "output_type": "execute_result"
    }
   ],
   "source": [
    "idade <= 18"
   ]
  },
  {
   "cell_type": "code",
   "execution_count": 25,
   "id": "b32fe47d",
   "metadata": {},
   "outputs": [
    {
     "data": {
      "text/plain": [
       "False"
      ]
     },
     "execution_count": 25,
     "metadata": {},
     "output_type": "execute_result"
    }
   ],
   "source": [
    "idade > 18"
   ]
  },
  {
   "cell_type": "code",
   "execution_count": 26,
   "id": "45ced0cb",
   "metadata": {},
   "outputs": [
    {
     "data": {
      "text/plain": [
       "False"
      ]
     },
     "execution_count": 26,
     "metadata": {},
     "output_type": "execute_result"
    }
   ],
   "source": [
    "idade < 18"
   ]
  },
  {
   "cell_type": "code",
   "execution_count": 27,
   "id": "8f37fa06",
   "metadata": {},
   "outputs": [
    {
     "data": {
      "text/plain": [
       "True"
      ]
     },
     "execution_count": 27,
     "metadata": {},
     "output_type": "execute_result"
    }
   ],
   "source": [
    "idade == 18"
   ]
  },
  {
   "cell_type": "code",
   "execution_count": 28,
   "id": "074ea345",
   "metadata": {},
   "outputs": [
    {
     "data": {
      "text/plain": [
       "True"
      ]
     },
     "execution_count": 28,
     "metadata": {},
     "output_type": "execute_result"
    }
   ],
   "source": [
    "idade != 15"
   ]
  },
  {
   "cell_type": "code",
   "execution_count": 29,
   "id": "87df3751",
   "metadata": {},
   "outputs": [
    {
     "data": {
      "text/plain": [
       "True"
      ]
     },
     "execution_count": 29,
     "metadata": {},
     "output_type": "execute_result"
    }
   ],
   "source": [
    "idade > 15"
   ]
  },
  {
   "cell_type": "code",
   "execution_count": 30,
   "id": "2f6a6751",
   "metadata": {},
   "outputs": [
    {
     "data": {
      "text/plain": [
       "False"
      ]
     },
     "execution_count": 30,
     "metadata": {},
     "output_type": "execute_result"
    }
   ],
   "source": [
    "idade < 15"
   ]
  },
  {
   "cell_type": "code",
   "execution_count": 31,
   "id": "0d5f95e9",
   "metadata": {},
   "outputs": [
    {
     "data": {
      "text/plain": [
       "True"
      ]
     },
     "execution_count": 31,
     "metadata": {},
     "output_type": "execute_result"
    }
   ],
   "source": [
    "idade >= 15"
   ]
  },
  {
   "cell_type": "code",
   "execution_count": 32,
   "id": "58946563",
   "metadata": {},
   "outputs": [
    {
     "data": {
      "text/plain": [
       "False"
      ]
     },
     "execution_count": 32,
     "metadata": {},
     "output_type": "execute_result"
    }
   ],
   "source": [
    "idade <= 15"
   ]
  },
  {
   "cell_type": "code",
   "execution_count": 33,
   "id": "568856d7",
   "metadata": {},
   "outputs": [
    {
     "data": {
      "text/plain": [
       "False"
      ]
     },
     "execution_count": 33,
     "metadata": {},
     "output_type": "execute_result"
    }
   ],
   "source": [
    "idade == 15"
   ]
  },
  {
   "cell_type": "code",
   "execution_count": 34,
   "id": "8cbcfc43",
   "metadata": {},
   "outputs": [
    {
     "data": {
      "text/plain": [
       "True"
      ]
     },
     "execution_count": 34,
     "metadata": {},
     "output_type": "execute_result"
    }
   ],
   "source": [
    "idade == 18"
   ]
  },
  {
   "cell_type": "code",
   "execution_count": null,
   "id": "1f157ae1",
   "metadata": {},
   "outputs": [],
   "source": [
    "permissoes = []\n",
    "idades = [20, 14, 40]\n",
    "\n",
    "def verifica_se_pode_dirigir(ages, permition):\n",
    "    for idade in ages:\n",
    "        if age >= 18:\n",
    "            print(f'{age} anos tem permissão para dirigir')\n",
    "            permition.append(True)\n",
    "        else:\n",
    "            print(f'{age} anos não tem permissão para dirigir')\n",
    "            permition.append(False)        \n",
    "\n",
    "verifica_se_pode_dirigir(idades, permissoes)\n"
   ]
  }
 ],
 "metadata": {
  "kernelspec": {
   "display_name": "Python 3 (ipykernel)",
   "language": "python",
   "name": "python3"
  },
  "language_info": {
   "codemirror_mode": {
    "name": "ipython",
    "version": 3
   },
   "file_extension": ".py",
   "mimetype": "text/x-python",
   "name": "python",
   "nbconvert_exporter": "python",
   "pygments_lexer": "ipython3",
   "version": "3.9.7"
  }
 },
 "nbformat": 4,
 "nbformat_minor": 5
}
