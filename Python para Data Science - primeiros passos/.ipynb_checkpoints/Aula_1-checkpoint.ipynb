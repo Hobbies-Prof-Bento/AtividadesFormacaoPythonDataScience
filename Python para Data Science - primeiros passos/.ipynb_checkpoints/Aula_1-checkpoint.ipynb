{
 "cells": [
  {
   "cell_type": "markdown",
   "id": "53bc8d31",
   "metadata": {},
   "source": [
    "# Lógica de Programação com Python"
   ]
  },
  {
   "cell_type": "code",
   "execution_count": 4,
   "id": "e7492de5",
   "metadata": {},
   "outputs": [
    {
     "name": "stdout",
     "output_type": "stream",
     "text": [
      "2\n"
     ]
    }
   ],
   "source": [
    "print(1+1)"
   ]
  },
  {
   "cell_type": "code",
   "execution_count": 3,
   "id": "b03b7f93",
   "metadata": {},
   "outputs": [
    {
     "name": "stdout",
     "output_type": "stream",
     "text": [
      "4\n"
     ]
    }
   ],
   "source": [
    "x = 2\n",
    "print(x+2)"
   ]
  },
  {
   "cell_type": "markdown",
   "id": "fa2c1790",
   "metadata": {},
   "source": [
    "## Criando minha primeira função"
   ]
  },
  {
   "cell_type": "code",
   "execution_count": 6,
   "id": "cc19ebd1",
   "metadata": {},
   "outputs": [],
   "source": [
    "def saudacao():\n",
    "    nome = input('Qual é o seu nome? ')\n",
    "    print(f'Olá {nome}')"
   ]
  },
  {
   "cell_type": "code",
   "execution_count": 7,
   "id": "dae24220",
   "metadata": {},
   "outputs": [
    {
     "name": "stdout",
     "output_type": "stream",
     "text": [
      "Qual é o seu nome? Bento\n",
      "Olá Bento\n"
     ]
    }
   ],
   "source": [
    "saudacao()"
   ]
  },
  {
   "cell_type": "markdown",
   "id": "1e9d6d18",
   "metadata": {},
   "source": [
    "## Criando outra função (com parâmetro)"
   ]
  },
  {
   "cell_type": "code",
   "execution_count": 8,
   "id": "60a7c4cf",
   "metadata": {},
   "outputs": [],
   "source": [
    "nome = 'Luiza'"
   ]
  },
  {
   "cell_type": "code",
   "execution_count": 9,
   "id": "e3da7549",
   "metadata": {},
   "outputs": [],
   "source": [
    "def saudacao_com_parametro(nome):\n",
    "    print(f'Olá {nome}')"
   ]
  },
  {
   "cell_type": "code",
   "execution_count": 10,
   "id": "c13d129c",
   "metadata": {},
   "outputs": [
    {
     "name": "stdout",
     "output_type": "stream",
     "text": [
      "Olá Luiza\n"
     ]
    }
   ],
   "source": [
    "saudacao_com_parametro(nome)"
   ]
  },
  {
   "cell_type": "code",
   "execution_count": 11,
   "id": "2b23061c",
   "metadata": {},
   "outputs": [
    {
     "name": "stdout",
     "output_type": "stream",
     "text": [
      "Olá ana\n"
     ]
    }
   ],
   "source": [
    "saudacao_com_parametro('ana')"
   ]
  },
  {
   "cell_type": "markdown",
   "id": "4e051375",
   "metadata": {},
   "source": [
    "## Condicional "
   ]
  },
  {
   "cell_type": "code",
   "execution_count": 15,
   "id": "7ac34cb2",
   "metadata": {},
   "outputs": [],
   "source": [
    "idade = 20\n",
    "\n",
    "def verifica_se_pode_dirigir(age):\n",
    "    if age > 18:\n",
    "        print('Tem permissão para dirigir')\n",
    "    else:\n",
    "        print('Não tem permissão para dirigir')"
   ]
  },
  {
   "cell_type": "code",
   "execution_count": 13,
   "id": "581d149e",
   "metadata": {},
   "outputs": [
    {
     "name": "stdout",
     "output_type": "stream",
     "text": [
      "Tem permissão para dirigir\n"
     ]
    }
   ],
   "source": [
    "verifica_se_pode_dirigir(idade)"
   ]
  },
  {
   "cell_type": "code",
   "execution_count": 16,
   "id": "05bc01ed",
   "metadata": {},
   "outputs": [
    {
     "name": "stdout",
     "output_type": "stream",
     "text": [
      "Não tem permissão para dirigir\n"
     ]
    }
   ],
   "source": [
    "verifica_se_pode_dirigir(15)"
   ]
  },
  {
   "cell_type": "code",
   "execution_count": 17,
   "id": "b052185a",
   "metadata": {},
   "outputs": [],
   "source": [
    "def verifica_se_pode_dirigir_sem_parametros():\n",
    "    age = input('Qual a sua idade? ')\n",
    "    \n",
    "    if int(age) > 18: #colocar int(palavra) converte a palavra em número\n",
    "        print('Tem permissão para dirigir')\n",
    "    else:\n",
    "        print('Não tem permissão para dirigir')"
   ]
  },
  {
   "cell_type": "code",
   "execution_count": 18,
   "id": "2eaee47f",
   "metadata": {},
   "outputs": [
    {
     "name": "stdout",
     "output_type": "stream",
     "text": [
      "Qual a sua idade? 15\n",
      "Não tem permissão para dirigir\n"
     ]
    }
   ],
   "source": [
    "verifica_se_pode_dirigir_sem_parametros()"
   ]
  },
  {
   "cell_type": "code",
   "execution_count": 19,
   "id": "645fe815",
   "metadata": {},
   "outputs": [
    {
     "name": "stdout",
     "output_type": "stream",
     "text": [
      "Qual a sua idade? 21\n",
      "Tem permissão para dirigir\n"
     ]
    }
   ],
   "source": [
    "verifica_se_pode_dirigir_sem_parametros()"
   ]
  },
  {
   "cell_type": "code",
   "execution_count": null,
   "id": "6157c6ff",
   "metadata": {},
   "outputs": [],
   "source": []
  }
 ],
 "metadata": {
  "kernelspec": {
   "display_name": "Python 3 (ipykernel)",
   "language": "python",
   "name": "python3"
  },
  "language_info": {
   "codemirror_mode": {
    "name": "ipython",
    "version": 3
   },
   "file_extension": ".py",
   "mimetype": "text/x-python",
   "name": "python",
   "nbconvert_exporter": "python",
   "pygments_lexer": "ipython3",
   "version": "3.9.7"
  }
 },
 "nbformat": 4,
 "nbformat_minor": 5
}
